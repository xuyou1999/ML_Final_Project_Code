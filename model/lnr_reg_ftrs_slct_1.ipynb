{
 "cells": [
  {
   "cell_type": "code",
   "execution_count": 1,
   "metadata": {},
   "outputs": [],
   "source": [
    "from sklearn.base import BaseEstimator, RegressorMixin\n",
    "from scipy.optimize import minimize\n",
    "import numpy as np\n",
    "import matplotlib.pyplot as plt\n",
    "from sklearn.model_selection import GridSearchCV, PredefinedSplit\n",
    "from sklearn.model_selection import ParameterGrid\n",
    "from sklearn.metrics import mean_squared_error, make_scorer\n",
    "import pandas as pd\n",
    "from sklearn.metrics import confusion_matrix\n",
    "import itertools\n",
    "from sklearn.model_selection import train_test_split"
   ]
  },
  {
   "cell_type": "code",
   "execution_count": 2,
   "metadata": {},
   "outputs": [],
   "source": [
    "#read train data and validate data\n",
    "train_data = pd.read_csv(\"train_data.csv\",header=0)\n",
    "val_data = pd.read_csv(\"validate_data.csv\",header=0)"
   ]
  },
  {
   "cell_type": "code",
   "execution_count": 3,
   "metadata": {},
   "outputs": [],
   "source": [
    "#<Zihan Dai> (<2020/11>) <ridge_regression> [<.ipynb>]. Machine learning course Assignment2.\n",
    "class RidgeRegression(BaseEstimator, RegressorMixin):\n",
    "    \"\"\" ridge regression\"\"\"\n",
    "\n",
    "    def __init__(self, l2reg=1):\n",
    "        if l2reg < 0:\n",
    "            raise ValueError('Regularization penalty should be at least 0.')\n",
    "        self.l2reg = l2reg\n",
    "\n",
    "    def fit(self, X, y=None):\n",
    "        n, num_ftrs = X.shape\n",
    "        # convert y to 1-dim array, in case we're given a column vector\n",
    "        y = y.reshape(-1)\n",
    "        def ridge_obj(w):\n",
    "            predictions = np.dot(X,w)\n",
    "            residual = y - predictions\n",
    "            empirical_risk = np.sum(residual**2) / n\n",
    "            l2_norm_squared = np.sum(w**2)\n",
    "            objective = empirical_risk + self.l2reg * l2_norm_squared\n",
    "            return objective\n",
    "        self.ridge_obj_ = ridge_obj\n",
    "\n",
    "        w_0 = np.zeros(num_ftrs)\n",
    "        self.w_ = minimize(ridge_obj, w_0).x\n",
    "        return self\n",
    "\n",
    "    def predict(self, X, y=None):\n",
    "        try:\n",
    "            getattr(self, \"w_\")\n",
    "        except AttributeError:\n",
    "            raise RuntimeError(\"You must train classifer before predicting data!\")\n",
    "        return np.dot(X, self.w_)\n",
    "\n",
    "    def score(self, X, y):\n",
    "        # Average square error\n",
    "        try:\n",
    "            getattr(self, \"w_\")\n",
    "        except AttributeError:\n",
    "            raise RuntimeError(\"You must train classifer before predicting data!\")\n",
    "        residuals = self.predict(X) - y\n",
    "        return np.dot(residuals, residuals)/len(y)"
   ]
  },
  {
   "cell_type": "markdown",
   "metadata": {},
   "source": [
    "Delete actor_rating"
   ]
  },
  {
   "cell_type": "code",
   "execution_count": 4,
   "metadata": {},
   "outputs": [],
   "source": [
    "#train data\n",
    "X_train = train_data[[\"director_rating\", \"genre_rating\", \"language_rating\",\"region_rating\", \"writer_rating\", \"date\"]].values\n",
    "y_train = train_data[[\"movie_rating\"]].values\n",
    "\n",
    "#validation data\n",
    "X_val = val_data[[\"director_rating\", \"genre_rating\", \"language_rating\",\"region_rating\", \"writer_rating\", \"date\"]].values\n",
    "y_val = val_data[[\"movie_rating\"]].values"
   ]
  },
  {
   "cell_type": "code",
   "execution_count": 5,
   "metadata": {},
   "outputs": [
    {
     "name": "stdout",
     "output_type": "stream",
     "text": [
      "MSE of linear regression = 0.1140725835734198\n"
     ]
    }
   ],
   "source": [
    "#compute linear regression MSE of validation set\n",
    "l2reg = 0\n",
    "ridge_regression_estimator = RidgeRegression(l2reg)\n",
    "ridge_regression_estimator.fit(X_train, y_train)\n",
    "y_val_pred = ridge_regression_estimator.predict(X_val)\n",
    "MSE = 0\n",
    "for i in range(len(y_val_pred)):\n",
    "    MSE += (y_val_pred[i]-y_val[i][0])**2\n",
    "MSE /= len(y_val_pred)\n",
    "print(\"MSE of linear regression =\",MSE)"
   ]
  },
  {
   "cell_type": "markdown",
   "metadata": {},
   "source": [
    "Delete director_rating"
   ]
  },
  {
   "cell_type": "code",
   "execution_count": 6,
   "metadata": {},
   "outputs": [],
   "source": [
    "#train data\n",
    "X_train = train_data[[\"actor_rating\", \"genre_rating\", \"language_rating\",\"region_rating\", \"writer_rating\", \"date\"]].values\n",
    "y_train = train_data[[\"movie_rating\"]].values\n",
    "\n",
    "#validation data\n",
    "X_val = val_data[[\"actor_rating\", \"genre_rating\", \"language_rating\",\"region_rating\", \"writer_rating\", \"date\"]].values\n",
    "y_val = val_data[[\"movie_rating\"]].values"
   ]
  },
  {
   "cell_type": "code",
   "execution_count": 7,
   "metadata": {},
   "outputs": [
    {
     "name": "stdout",
     "output_type": "stream",
     "text": [
      "MSE of linear regression = 0.12519101122514398\n"
     ]
    }
   ],
   "source": [
    "#compute linear regression MSE of validation set\n",
    "l2reg = 0\n",
    "ridge_regression_estimator = RidgeRegression(l2reg)\n",
    "ridge_regression_estimator.fit(X_train, y_train)\n",
    "y_val_pred = ridge_regression_estimator.predict(X_val)\n",
    "MSE = 0\n",
    "for i in range(len(y_val_pred)):\n",
    "    MSE += (y_val_pred[i]-y_val[i][0])**2\n",
    "MSE /= len(y_val_pred)\n",
    "print(\"MSE of linear regression =\",MSE)"
   ]
  },
  {
   "cell_type": "markdown",
   "metadata": {},
   "source": [
    "Delete genre_rating"
   ]
  },
  {
   "cell_type": "code",
   "execution_count": 8,
   "metadata": {},
   "outputs": [],
   "source": [
    "#train data\n",
    "X_train = train_data[[\"actor_rating\", \"director_rating\", \"language_rating\",\"region_rating\", \"writer_rating\", \"date\"]].values\n",
    "y_train = train_data[[\"movie_rating\"]].values\n",
    "\n",
    "#validation data\n",
    "X_val = val_data[[\"actor_rating\", \"director_rating\", \"language_rating\",\"region_rating\", \"writer_rating\", \"date\"]].values\n",
    "y_val = val_data[[\"movie_rating\"]].values"
   ]
  },
  {
   "cell_type": "code",
   "execution_count": 9,
   "metadata": {},
   "outputs": [
    {
     "name": "stdout",
     "output_type": "stream",
     "text": [
      "MSE of linear regression = 0.1072198217613274\n"
     ]
    }
   ],
   "source": [
    "#compute linear regression MSE of validation set\n",
    "l2reg = 0\n",
    "ridge_regression_estimator = RidgeRegression(l2reg)\n",
    "ridge_regression_estimator.fit(X_train, y_train)\n",
    "y_val_pred = ridge_regression_estimator.predict(X_val)\n",
    "MSE = 0\n",
    "for i in range(len(y_val_pred)):\n",
    "    MSE += (y_val_pred[i]-y_val[i][0])**2\n",
    "MSE /= len(y_val_pred)\n",
    "print(\"MSE of linear regression =\",MSE)"
   ]
  },
  {
   "cell_type": "markdown",
   "metadata": {},
   "source": [
    "Delete language_rating"
   ]
  },
  {
   "cell_type": "code",
   "execution_count": 10,
   "metadata": {},
   "outputs": [],
   "source": [
    "#train data\n",
    "X_train = train_data[[\"actor_rating\", \"director_rating\", \"genre_rating\", \"region_rating\", \"writer_rating\", \"date\"]].values\n",
    "y_train = train_data[[\"movie_rating\"]].values\n",
    "\n",
    "#validation data\n",
    "X_val = val_data[[\"actor_rating\", \"director_rating\", \"genre_rating\", \"region_rating\", \"writer_rating\", \"date\"]].values\n",
    "y_val = val_data[[\"movie_rating\"]].values"
   ]
  },
  {
   "cell_type": "code",
   "execution_count": 11,
   "metadata": {},
   "outputs": [
    {
     "name": "stdout",
     "output_type": "stream",
     "text": [
      "MSE of linear regression = 0.10720614872947865\n"
     ]
    }
   ],
   "source": [
    "#compute linear regression MSE of validation set\n",
    "l2reg = 0\n",
    "ridge_regression_estimator = RidgeRegression(l2reg)\n",
    "ridge_regression_estimator.fit(X_train, y_train)\n",
    "y_val_pred = ridge_regression_estimator.predict(X_val)\n",
    "MSE = 0\n",
    "for i in range(len(y_val_pred)):\n",
    "    MSE += (y_val_pred[i]-y_val[i][0])**2\n",
    "MSE /= len(y_val_pred)\n",
    "print(\"MSE of linear regression =\",MSE)"
   ]
  },
  {
   "cell_type": "markdown",
   "metadata": {},
   "source": [
    "Delete region_rating"
   ]
  },
  {
   "cell_type": "code",
   "execution_count": 12,
   "metadata": {},
   "outputs": [],
   "source": [
    "#train data\n",
    "X_train = train_data[[\"actor_rating\", \"director_rating\", \"genre_rating\", \"language_rating\",\"writer_rating\", \"date\"]].values\n",
    "y_train = train_data[[\"movie_rating\"]].values\n",
    "\n",
    "#validation data\n",
    "X_val = val_data[[\"actor_rating\", \"director_rating\", \"genre_rating\", \"language_rating\",\"writer_rating\", \"date\"]].values\n",
    "y_val = val_data[[\"movie_rating\"]].values"
   ]
  },
  {
   "cell_type": "code",
   "execution_count": 13,
   "metadata": {},
   "outputs": [
    {
     "name": "stdout",
     "output_type": "stream",
     "text": [
      "MSE of linear regression = 0.10750841818703641\n"
     ]
    }
   ],
   "source": [
    "#compute linear regression MSE of validation set\n",
    "l2reg = 0\n",
    "ridge_regression_estimator = RidgeRegression(l2reg)\n",
    "ridge_regression_estimator.fit(X_train, y_train)\n",
    "y_val_pred = ridge_regression_estimator.predict(X_val)\n",
    "MSE = 0\n",
    "for i in range(len(y_val_pred)):\n",
    "    MSE += (y_val_pred[i]-y_val[i][0])**2\n",
    "MSE /= len(y_val_pred)\n",
    "print(\"MSE of linear regression =\",MSE)"
   ]
  },
  {
   "cell_type": "markdown",
   "metadata": {},
   "source": [
    "Delete writer_rating"
   ]
  },
  {
   "cell_type": "code",
   "execution_count": 14,
   "metadata": {},
   "outputs": [],
   "source": [
    "#train data\n",
    "X_train = train_data[[\"actor_rating\", \"director_rating\", \"genre_rating\", \"language_rating\",\"region_rating\", \"date\"]].values\n",
    "y_train = train_data[[\"movie_rating\"]].values\n",
    "\n",
    "#validation data\n",
    "X_val = val_data[[\"actor_rating\", \"director_rating\", \"genre_rating\", \"language_rating\",\"region_rating\", \"date\"]].values\n",
    "y_val = val_data[[\"movie_rating\"]].values"
   ]
  },
  {
   "cell_type": "code",
   "execution_count": 15,
   "metadata": {},
   "outputs": [
    {
     "name": "stdout",
     "output_type": "stream",
     "text": [
      "MSE of linear regression = 0.14052787603080605\n"
     ]
    }
   ],
   "source": [
    "#compute linear regression MSE of validation set\n",
    "l2reg = 0\n",
    "ridge_regression_estimator = RidgeRegression(l2reg)\n",
    "ridge_regression_estimator.fit(X_train, y_train)\n",
    "y_val_pred = ridge_regression_estimator.predict(X_val)\n",
    "MSE = 0\n",
    "for i in range(len(y_val_pred)):\n",
    "    MSE += (y_val_pred[i]-y_val[i][0])**2\n",
    "MSE /= len(y_val_pred)\n",
    "print(\"MSE of linear regression =\",MSE)"
   ]
  },
  {
   "cell_type": "markdown",
   "metadata": {},
   "source": [
    " Delete date"
   ]
  },
  {
   "cell_type": "code",
   "execution_count": 16,
   "metadata": {},
   "outputs": [],
   "source": [
    "#train data\n",
    "X_train = train_data[[\"actor_rating\", \"director_rating\", \"genre_rating\", \"language_rating\",\"region_rating\", \"writer_rating\"]].values\n",
    "y_train = train_data[[\"movie_rating\"]].values\n",
    "\n",
    "#validation data\n",
    "X_val = val_data[[\"actor_rating\", \"director_rating\", \"genre_rating\", \"language_rating\",\"region_rating\", \"writer_rating\"]].values\n",
    "y_val = val_data[[\"movie_rating\"]].values"
   ]
  },
  {
   "cell_type": "code",
   "execution_count": 17,
   "metadata": {},
   "outputs": [
    {
     "name": "stdout",
     "output_type": "stream",
     "text": [
      "MSE of linear regression = 0.10714484768810448\n"
     ]
    }
   ],
   "source": [
    "#compute linear regression MSE of validation set\n",
    "l2reg = 0\n",
    "ridge_regression_estimator = RidgeRegression(l2reg)\n",
    "ridge_regression_estimator.fit(X_train, y_train)\n",
    "y_val_pred = ridge_regression_estimator.predict(X_val)\n",
    "MSE = 0\n",
    "for i in range(len(y_val_pred)):\n",
    "    MSE += (y_val_pred[i]-y_val[i][0])**2\n",
    "MSE /= len(y_val_pred)\n",
    "print(\"MSE of linear regression =\",MSE)"
   ]
  },
  {
   "cell_type": "markdown",
   "metadata": {},
   "source": [
    "So we delete date for linear regression"
   ]
  },
  {
   "cell_type": "code",
   "execution_count": null,
   "metadata": {},
   "outputs": [],
   "source": []
  }
 ],
 "metadata": {
  "kernelspec": {
   "display_name": "Python 3",
   "language": "python",
   "name": "python3"
  },
  "language_info": {
   "codemirror_mode": {
    "name": "ipython",
    "version": 3
   },
   "file_extension": ".py",
   "mimetype": "text/x-python",
   "name": "python",
   "nbconvert_exporter": "python",
   "pygments_lexer": "ipython3",
   "version": "3.8.3"
  }
 },
 "nbformat": 4,
 "nbformat_minor": 4
}
